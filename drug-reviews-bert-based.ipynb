{
  "cells": [
    {
      "cell_type": "markdown",
      "metadata": {
        "colab_type": "text",
        "id": "view-in-github"
      },
      "source": [
        "<a href=\"https://colab.research.google.com/github/boskya/aai501-drug-reviews/blob/main/DrugReviewsBERTBased.ipynb\" target=\"_parent\"><img src=\"https://colab.research.google.com/assets/colab-badge.svg\" alt=\"Open In Colab\"/></a>"
      ]
    },
    {
      "cell_type": "markdown",
      "metadata": {},
      "source": [
        "AAI-501 Final Project: Predicting Patient Sentiment in Drug Reviews\n",
        "\n",
        "Some portions of this code were generated with ChatGPT (OpenAI, 2023) \n",
        "\n",
        "References:\n",
        "OpenAI. (2023). ChatGPT (Mar 14 version) [Large language model]. https://chat.openai.com/chat"
      ]
    },
    {
      "cell_type": "code",
      "execution_count": 6,
      "metadata": {
        "colab": {
          "base_uri": "https://localhost:8080/"
        },
        "id": "UzWawbIlIqOt",
        "outputId": "1a39a6fb-e045-4f53-b1a1-85805da0df33"
      },
      "outputs": [
        {
          "name": "stdout",
          "output_type": "stream",
          "text": [
            "   Unnamed: 0                  drugName                     condition  \\\n",
            "0      206461                 Valsartan  Left Ventricular Dysfunction   \n",
            "1       95260                Guanfacine                          ADHD   \n",
            "2       92703                    Lybrel                 Birth Control   \n",
            "3      138000                Ortho Evra                 Birth Control   \n",
            "4       35696  Buprenorphine / naloxone             Opiate Dependence   \n",
            "\n",
            "                                              review  rating  \\\n",
            "0  \"It has no side effect, I take it in combinati...     9.0   \n",
            "1  \"My son is halfway through his fourth week of ...     8.0   \n",
            "2  \"I used to take another oral contraceptive, wh...     5.0   \n",
            "3  \"This is my first time using any form of birth...     8.0   \n",
            "4  \"Suboxone has completely turned my life around...     9.0   \n",
            "\n",
            "                date  usefulCount  \n",
            "0       May 20, 2012           27  \n",
            "1     April 27, 2010          192  \n",
            "2  December 14, 2009           17  \n",
            "3   November 3, 2015           10  \n",
            "4  November 27, 2016           37  \n",
            "(161297, 7)\n",
            "(53766, 7)\n"
          ]
        }
      ],
      "source": [
        "import pandas as pd\n",
        "import matplotlib.pyplot as plt\n",
        "import numpy as np\n",
        "import seaborn as sns\n",
        "\n",
        "# load the training file and examine content\n",
        "drugs_training_data_path = \"sample_data/drugsComTrain_raw.tsv\"\n",
        "drugs_training_data = pd.read_csv(drugs_training_data_path , sep=\"\\t\")\n",
        "print(drugs_training_data.head())\n",
        "print(drugs_training_data.shape)\n",
        "\n",
        "# laod the test file and examine content\n",
        "drugs_test_data_path = \"sample_data/drugsComTest_raw.tsv\"\n",
        "drugs_test_data = pd.read_csv(drugs_test_data_path , sep=\"\\t\")\n",
        "drugs_test_data.head()\n",
        "print(drugs_test_data.shape)"
      ]
    },
    {
      "cell_type": "code",
      "execution_count": 7,
      "metadata": {
        "colab": {
          "base_uri": "https://localhost:8080/"
        },
        "id": "8zk7SP8XJAuB",
        "outputId": "4dd40d75-1bdf-48f1-9b00-c82cc8dad9bc"
      },
      "outputs": [
        {
          "name": "stdout",
          "output_type": "stream",
          "text": [
            "\n",
            "Sentiment distribution in training data:\n",
            "sentiment\n",
            "positive    106866\n",
            "negative     40075\n",
            "neutral      14356\n",
            "Name: count, dtype: int64\n",
            "\n",
            "Sentiment distribution in test data:\n",
            "sentiment\n",
            "positive    35440\n",
            "negative    13497\n",
            "neutral      4829\n",
            "Name: count, dtype: int64\n",
            "\n",
            "Sample labeled reviews (training data):\n",
            "                                              review  rating sentiment\n",
            "0  \"It has no side effect, I take it in combinati...     9.0  positive\n",
            "1  \"My son is halfway through his fourth week of ...     8.0  positive\n",
            "2  \"I used to take another oral contraceptive, wh...     5.0   neutral\n",
            "3  \"This is my first time using any form of birth...     8.0  positive\n",
            "4  \"Suboxone has completely turned my life around...     9.0  positive\n"
          ]
        }
      ],
      "source": [
        "def label_sentiment(rating):\n",
        "    if rating >= 7:\n",
        "        return \"positive\"\n",
        "    elif rating > 4 and rating < 7:\n",
        "        return \"neutral\"\n",
        "    else:\n",
        "        return \"negative\"\n",
        "\n",
        "# Apply the labeling function to the 'rating' column\n",
        "drugs_training_data['sentiment'] = drugs_training_data['rating'].apply(label_sentiment)\n",
        "drugs_test_data['sentiment'] = drugs_test_data['rating'].apply(label_sentiment)\n",
        "\n",
        "# Preview the labeled data\n",
        "print(\"\\nSentiment distribution in training data:\")\n",
        "print(drugs_training_data['sentiment'].value_counts())\n",
        "\n",
        "print(\"\\nSentiment distribution in test data:\")\n",
        "print(drugs_test_data['sentiment'].value_counts())\n",
        "\n",
        "# View a sample of reviews with sentiment\n",
        "print(\"\\nSample labeled reviews (training data):\")\n",
        "print(drugs_training_data[['review', 'rating', 'sentiment']].head())"
      ]
    },
    {
      "cell_type": "code",
      "execution_count": 8,
      "metadata": {
        "colab": {
          "base_uri": "https://localhost:8080/"
        },
        "id": "4Co6LO75JVBc",
        "outputId": "05d148d0-b82a-479b-f300-24471a033161"
      },
      "outputs": [
        {
          "name": "stdout",
          "output_type": "stream",
          "text": [
            "Train data size: 129037\n",
            "Validation data size: 32260\n",
            "Test data size: 53766\n"
          ]
        }
      ],
      "source": [
        "from sklearn.model_selection import train_test_split\n",
        "from sklearn.preprocessing import LabelEncoder\n",
        "\n",
        "# Raw text data\n",
        "X_raw_bert = drugs_training_data['review']\n",
        "y_raw_bert = drugs_training_data['sentiment']\n",
        "\n",
        "X_test_raw_bert = drugs_test_data['review']\n",
        "y_test_raw_bert  = drugs_test_data['sentiment']\n",
        "\n",
        "# Encode labels\n",
        "label_encoder = LabelEncoder()\n",
        "y_encoded_bert = label_encoder.fit_transform(y_raw_bert)\n",
        "y_test_encoded_bert = label_encoder.transform(y_test_raw_bert)\n",
        "\n",
        "# Split into train and validation sets\n",
        "X_train_raw_bert, X_val_raw_bert, y_train_encoded_bert, y_val_encoded_bert = train_test_split(\n",
        "    X_raw_bert, y_encoded_bert, test_size=0.2, random_state=42\n",
        ")\n",
        "\n",
        "print(\"Train data size:\", len(X_train_raw_bert))\n",
        "print(\"Validation data size:\", len(X_val_raw_bert))\n",
        "print(\"Test data size:\", len(X_test_raw_bert))"
      ]
    },
    {
      "cell_type": "code",
      "execution_count": 9,
      "metadata": {
        "colab": {
          "base_uri": "https://localhost:8080/",
          "height": 665,
          "referenced_widgets": [
            "c846c4439d304926ab50b7b540924394",
            "0224024392fd435996738312659123f6",
            "cd6b9312d4e74ede9a411f67a50f708c",
            "0502e1c271a7477ba4ecec0cc78e4498",
            "828efe8748f940e484e40ed347b8343e",
            "cf3e78ccace8447bbe2fe2801b6de64b",
            "bc44f33b07b4425ea776393332a42840",
            "67c549d7ec694ef3bbd697ed99ac2482",
            "7cec5ebfad68401caee70db5229bdcbe",
            "31b325c8c9c74845bc5fe89151f43267",
            "bce3180c2b814c03abd9b14c9dab2931"
          ]
        },
        "id": "bfM8aysEJBmU",
        "outputId": "ee7f1f2c-7060-44a1-e8bb-32107b1eed93"
      },
      "outputs": [
        {
          "name": "stdout",
          "output_type": "stream",
          "text": [
            "129037 129037\n",
            "32260 32260\n",
            "53766 53766\n"
          ]
        },
        {
          "data": {
            "application/vnd.jupyter.widget-view+json": {
              "model_id": "c846c4439d304926ab50b7b540924394",
              "version_major": 2,
              "version_minor": 0
            },
            "text/plain": [
              "model.safetensors:   0%|          | 0.00/440M [00:00<?, ?B/s]"
            ]
          },
          "metadata": {},
          "output_type": "display_data"
        },
        {
          "name": "stderr",
          "output_type": "stream",
          "text": [
            "Some weights of BertForSequenceClassification were not initialized from the model checkpoint at bert-base-uncased and are newly initialized: ['classifier.bias', 'classifier.weight']\n",
            "You should probably TRAIN this model on a down-stream task to be able to use it for predictions and inference.\n",
            "<ipython-input-9-4b95b213ff79>:61: UserWarning: To copy construct from a tensor, it is recommended to use sourceTensor.clone().detach() or sourceTensor.clone().detach().requires_grad_(True), rather than torch.tensor(sourceTensor).\n",
            "  criterion = torch.nn.CrossEntropyLoss(weight=torch.tensor(class_weights).to('cuda'))\n",
            "/usr/local/lib/python3.10/dist-packages/transformers/training_args.py:1568: FutureWarning: `evaluation_strategy` is deprecated and will be removed in version 4.46 of 🤗 Transformers. Use `eval_strategy` instead\n",
            "  warnings.warn(\n",
            "<ipython-input-9-4b95b213ff79>:81: FutureWarning: `tokenizer` is deprecated and will be removed in version 5.0.0 for `Trainer.__init__`. Use `processing_class` instead.\n",
            "  trainer = Trainer(\n",
            "\u001b[34m\u001b[1mwandb\u001b[0m: \u001b[33mWARNING\u001b[0m The `run_name` is currently set to the same value as `TrainingArguments.output_dir`. If this was not intended, please specify a different run name by setting the `TrainingArguments.run_name` parameter.\n",
            "\u001b[34m\u001b[1mwandb\u001b[0m: Using wandb-core as the SDK backend.  Please refer to https://wandb.me/wandb-core for more information.\n"
          ]
        },
        {
          "data": {
            "application/javascript": "\n        window._wandbApiKey = new Promise((resolve, reject) => {\n            function loadScript(url) {\n            return new Promise(function(resolve, reject) {\n                let newScript = document.createElement(\"script\");\n                newScript.onerror = reject;\n                newScript.onload = resolve;\n                document.body.appendChild(newScript);\n                newScript.src = url;\n            });\n            }\n            loadScript(\"https://cdn.jsdelivr.net/npm/postmate/build/postmate.min.js\").then(() => {\n            const iframe = document.createElement('iframe')\n            iframe.style.cssText = \"width:0;height:0;border:none\"\n            document.body.appendChild(iframe)\n            const handshake = new Postmate({\n                container: iframe,\n                url: 'https://wandb.ai/authorize'\n            });\n            const timeout = setTimeout(() => reject(\"Couldn't auto authenticate\"), 5000)\n            handshake.then(function(child) {\n                child.on('authorize', data => {\n                    clearTimeout(timeout)\n                    resolve(data)\n                });\n            });\n            })\n        });\n    ",
            "text/plain": [
              "<IPython.core.display.Javascript object>"
            ]
          },
          "metadata": {},
          "output_type": "display_data"
        },
        {
          "name": "stderr",
          "output_type": "stream",
          "text": [
            "\u001b[34m\u001b[1mwandb\u001b[0m: Logging into wandb.ai. (Learn how to deploy a W&B server locally: https://wandb.me/wandb-server)\n",
            "\u001b[34m\u001b[1mwandb\u001b[0m: You can find your API key in your browser here: https://wandb.ai/authorize\n",
            "wandb: Paste an API key from your profile and hit enter, or press ctrl+c to quit:"
          ]
        },
        {
          "name": "stdout",
          "output_type": "stream",
          "text": [
            " ··········\n"
          ]
        },
        {
          "name": "stderr",
          "output_type": "stream",
          "text": [
            "\u001b[34m\u001b[1mwandb\u001b[0m: Appending key for api.wandb.ai to your netrc file: /root/.netrc\n"
          ]
        },
        {
          "data": {
            "text/html": [
              "Tracking run with wandb version 0.18.7"
            ],
            "text/plain": [
              "<IPython.core.display.HTML object>"
            ]
          },
          "metadata": {},
          "output_type": "display_data"
        },
        {
          "data": {
            "text/html": [
              "Run data is saved locally in <code>/content/wandb/run-20241207_162859-eq4ipza0</code>"
            ],
            "text/plain": [
              "<IPython.core.display.HTML object>"
            ]
          },
          "metadata": {},
          "output_type": "display_data"
        },
        {
          "data": {
            "text/html": [
              "Syncing run <strong><a href='https://wandb.ai/bosky-atlani-university-of-san-diego/huggingface/runs/eq4ipza0' target=\"_blank\">./results</a></strong> to <a href='https://wandb.ai/bosky-atlani-university-of-san-diego/huggingface' target=\"_blank\">Weights & Biases</a> (<a href='https://wandb.me/developer-guide' target=\"_blank\">docs</a>)<br/>"
            ],
            "text/plain": [
              "<IPython.core.display.HTML object>"
            ]
          },
          "metadata": {},
          "output_type": "display_data"
        },
        {
          "data": {
            "text/html": [
              " View project at <a href='https://wandb.ai/bosky-atlani-university-of-san-diego/huggingface' target=\"_blank\">https://wandb.ai/bosky-atlani-university-of-san-diego/huggingface</a>"
            ],
            "text/plain": [
              "<IPython.core.display.HTML object>"
            ]
          },
          "metadata": {},
          "output_type": "display_data"
        },
        {
          "data": {
            "text/html": [
              " View run at <a href='https://wandb.ai/bosky-atlani-university-of-san-diego/huggingface/runs/eq4ipza0' target=\"_blank\">https://wandb.ai/bosky-atlani-university-of-san-diego/huggingface/runs/eq4ipza0</a>"
            ],
            "text/plain": [
              "<IPython.core.display.HTML object>"
            ]
          },
          "metadata": {},
          "output_type": "display_data"
        },
        {
          "data": {
            "text/html": [
              "\n",
              "    <div>\n",
              "      \n",
              "      <progress value='24195' max='24195' style='width:300px; height:20px; vertical-align: middle;'></progress>\n",
              "      [24195/24195 1:29:09, Epoch 3/3]\n",
              "    </div>\n",
              "    <table border=\"1\" class=\"dataframe\">\n",
              "  <thead>\n",
              " <tr style=\"text-align: left;\">\n",
              "      <th>Epoch</th>\n",
              "      <th>Training Loss</th>\n",
              "      <th>Validation Loss</th>\n",
              "      <th>Accuracy</th>\n",
              "      <th>F1</th>\n",
              "    </tr>\n",
              "  </thead>\n",
              "  <tbody>\n",
              "    <tr>\n",
              "      <td>1</td>\n",
              "      <td>0.550600</td>\n",
              "      <td>0.563876</td>\n",
              "      <td>0.847861</td>\n",
              "      <td>0.836457</td>\n",
              "    </tr>\n",
              "    <tr>\n",
              "      <td>2</td>\n",
              "      <td>0.494200</td>\n",
              "      <td>0.539342</td>\n",
              "      <td>0.865282</td>\n",
              "      <td>0.864803</td>\n",
              "    </tr>\n",
              "    <tr>\n",
              "      <td>3</td>\n",
              "      <td>0.444900</td>\n",
              "      <td>0.551973</td>\n",
              "      <td>0.875418</td>\n",
              "      <td>0.873798</td>\n",
              "    </tr>\n",
              "  </tbody>\n",
              "</table><p>"
            ],
            "text/plain": [
              "<IPython.core.display.HTML object>"
            ]
          },
          "metadata": {},
          "output_type": "display_data"
        },
        {
          "data": {
            "text/html": [],
            "text/plain": [
              "<IPython.core.display.HTML object>"
            ]
          },
          "metadata": {},
          "output_type": "display_data"
        },
        {
          "name": "stdout",
          "output_type": "stream",
          "text": [
            "Test Accuracy: 0.8700293866011978\n",
            "Test F1 Score: 0.8692972095660425\n"
          ]
        }
      ],
      "source": [
        "from transformers import BertTokenizer, BertForSequenceClassification\n",
        "from transformers import Trainer, TrainingArguments\n",
        "from sklearn.preprocessing import LabelEncoder\n",
        "from torch.utils.data import Dataset, DataLoader\n",
        "from sklearn.metrics import accuracy_score, f1_score\n",
        "from torch.nn import CrossEntropyLoss\n",
        "\n",
        "\n",
        "import torch\n",
        "\n",
        "# Step 1: Preprocessing\n",
        "tokenizer = BertTokenizer.from_pretrained('bert-base-uncased')\n",
        "\n",
        "\n",
        "\n",
        "print(len(X_train_raw_bert), len(y_train_encoded_bert))  # Should match\n",
        "print(len(X_val_raw_bert), len(y_val_encoded_bert))           # Should match\n",
        "print(len(X_test_raw_bert), len(y_test_encoded_bert))         # Should match\n",
        "# Define a custom dataset class for PyTorch\n",
        "class DrugReviewDataset(Dataset):\n",
        "    def __init__(self, reviews, labels, tokenizer, max_len=128):\n",
        "        self.reviews = reviews\n",
        "        self.labels = labels\n",
        "        self.tokenizer = tokenizer\n",
        "        self.max_len = max_len\n",
        "\n",
        "    def __len__(self):\n",
        "        return len(self.reviews)\n",
        "\n",
        "    def __getitem__(self, idx):\n",
        "        review = self.reviews[idx]\n",
        "        label = self.labels[idx]\n",
        "        encoding = self.tokenizer.encode_plus(\n",
        "            review,\n",
        "            max_length=self.max_len,\n",
        "            padding='max_length',\n",
        "            truncation=True,\n",
        "            return_tensors=\"pt\"\n",
        "        )\n",
        "        return {\n",
        "            'input_ids': encoding['input_ids'].flatten(),\n",
        "            'attention_mask': encoding['attention_mask'].flatten(),\n",
        "            'labels': torch.tensor(label, dtype=torch.long)\n",
        "        }\n",
        "\n",
        "# Prepare datasets\n",
        "train_dataset = DrugReviewDataset(X_train_raw_bert.tolist(), y_train_encoded_bert, tokenizer)\n",
        "val_dataset = DrugReviewDataset(X_val_raw_bert.tolist(), y_val_encoded_bert, tokenizer)\n",
        "test_dataset = DrugReviewDataset(X_test_raw_bert.tolist(), y_test_encoded_bert, tokenizer)\n",
        "\n",
        "# Step 2: Model Initialization\n",
        "model = BertForSequenceClassification.from_pretrained('bert-base-uncased', num_labels=3)\n",
        "\n",
        "# class weights for imbalance\n",
        "class_counts = torch.tensor([list(y_train_encoded_bert).count(i) for i in range(3)])\n",
        "class_weights = 1. / class_counts.float()\n",
        "class_weights = class_weights / class_weights.sum()  # Normalize weights\n",
        "class_weights_dict = {i: class_weights[i] for i in range(3)}\n",
        "\n",
        "# Step 3: Define a custom loss function with class weights\n",
        "criterion = torch.nn.CrossEntropyLoss(weight=torch.tensor(class_weights).to('cuda'))\n",
        "\n",
        "# Define Training Arguments\n",
        "training_args = TrainingArguments(\n",
        "    output_dir='./results',\n",
        "    evaluation_strategy=\"epoch\",\n",
        "    save_strategy=\"epoch\",\n",
        "\n",
        "    learning_rate=2e-5,\n",
        "    per_device_train_batch_size=16,\n",
        "    per_device_eval_batch_size=32,\n",
        "    num_train_epochs=3,\n",
        "    weight_decay=0.01,\n",
        "    logging_dir='./logs',\n",
        "    logging_steps=100,\n",
        "    load_best_model_at_end=True,\n",
        "    label_smoothing_factor=0.1\n",
        ")\n",
        "\n",
        "# Trainer API\n",
        "trainer = Trainer(\n",
        "    model=model,\n",
        "    args=training_args,\n",
        "    train_dataset=train_dataset,\n",
        "    eval_dataset=val_dataset,\n",
        "    tokenizer=tokenizer,\n",
        "    compute_metrics=lambda p: {\n",
        "        \"accuracy\": accuracy_score(p.label_ids, p.predictions.argmax(-1)),\n",
        "        \"f1\": f1_score(p.label_ids, p.predictions.argmax(-1), average=\"weighted\")\n",
        "    }\n",
        ")\n",
        "\n",
        "# Train the Model\n",
        "trainer.train()\n",
        "\n",
        "# Evaluate on Test Set\n",
        "predictions = trainer.predict(test_dataset)\n",
        "test_accuracy = accuracy_score(y_test_encoded_bert, predictions.predictions.argmax(-1))\n",
        "test_f1 = f1_score(y_test_encoded_bert, predictions.predictions.argmax(-1), average=\"weighted\")\n",
        "\n",
        "print(\"Test Accuracy:\", test_accuracy)\n",
        "print(\"Test F1 Score:\", test_f1)"
      ]
    },
    {
      "cell_type": "code",
      "execution_count": 10,
      "metadata": {
        "colab": {
          "base_uri": "https://localhost:8080/"
        },
        "id": "F1D0Xr_yTEeU",
        "outputId": "1ea501e9-a483-436d-9dd9-1081c10aec86"
      },
      "outputs": [
        {
          "name": "stdout",
          "output_type": "stream",
          "text": [
            "              precision    recall  f1-score   support\n",
            "\n",
            "    negative       0.85      0.83      0.84     13497\n",
            "     neutral       0.45      0.44      0.45      4829\n",
            "    positive       0.93      0.94      0.94     35440\n",
            "\n",
            "    accuracy                           0.87     53766\n",
            "   macro avg       0.75      0.74      0.74     53766\n",
            "weighted avg       0.87      0.87      0.87     53766\n",
            "\n"
          ]
        }
      ],
      "source": [
        "from sklearn.metrics import confusion_matrix, classification_report\n",
        "y_pred = predictions.predictions.argmax(-1)\n",
        "report = classification_report(y_test_encoded_bert, y_pred, target_names=label_encoder.classes_)\n",
        "print(report)"
      ]
    }
  ],
  "metadata": {
    "accelerator": "GPU",
    "colab": {
      "authorship_tag": "ABX9TyP4jsipKPoMSRh35VE84KUs",
      "gpuType": "L4",
      "include_colab_link": true,
      "provenance": []
    },
    "kernelspec": {
      "display_name": "Python 3",
      "name": "python3"
    },
    "language_info": {
      "name": "python"
    },
    "widgets": {
      "application/vnd.jupyter.widget-state+json": {
        "0224024392fd435996738312659123f6": {
          "model_module": "@jupyter-widgets/controls",
          "model_module_version": "1.5.0",
          "model_name": "HTMLModel",
          "state": {
            "_dom_classes": [],
            "_model_module": "@jupyter-widgets/controls",
            "_model_module_version": "1.5.0",
            "_model_name": "HTMLModel",
            "_view_count": null,
            "_view_module": "@jupyter-widgets/controls",
            "_view_module_version": "1.5.0",
            "_view_name": "HTMLView",
            "description": "",
            "description_tooltip": null,
            "layout": "IPY_MODEL_cf3e78ccace8447bbe2fe2801b6de64b",
            "placeholder": "​",
            "style": "IPY_MODEL_bc44f33b07b4425ea776393332a42840",
            "value": "model.safetensors: 100%"
          }
        },
        "0502e1c271a7477ba4ecec0cc78e4498": {
          "model_module": "@jupyter-widgets/controls",
          "model_module_version": "1.5.0",
          "model_name": "HTMLModel",
          "state": {
            "_dom_classes": [],
            "_model_module": "@jupyter-widgets/controls",
            "_model_module_version": "1.5.0",
            "_model_name": "HTMLModel",
            "_view_count": null,
            "_view_module": "@jupyter-widgets/controls",
            "_view_module_version": "1.5.0",
            "_view_name": "HTMLView",
            "description": "",
            "description_tooltip": null,
            "layout": "IPY_MODEL_31b325c8c9c74845bc5fe89151f43267",
            "placeholder": "​",
            "style": "IPY_MODEL_bce3180c2b814c03abd9b14c9dab2931",
            "value": " 440M/440M [00:02&lt;00:00, 239MB/s]"
          }
        },
        "31b325c8c9c74845bc5fe89151f43267": {
          "model_module": "@jupyter-widgets/base",
          "model_module_version": "1.2.0",
          "model_name": "LayoutModel",
          "state": {
            "_model_module": "@jupyter-widgets/base",
            "_model_module_version": "1.2.0",
            "_model_name": "LayoutModel",
            "_view_count": null,
            "_view_module": "@jupyter-widgets/base",
            "_view_module_version": "1.2.0",
            "_view_name": "LayoutView",
            "align_content": null,
            "align_items": null,
            "align_self": null,
            "border": null,
            "bottom": null,
            "display": null,
            "flex": null,
            "flex_flow": null,
            "grid_area": null,
            "grid_auto_columns": null,
            "grid_auto_flow": null,
            "grid_auto_rows": null,
            "grid_column": null,
            "grid_gap": null,
            "grid_row": null,
            "grid_template_areas": null,
            "grid_template_columns": null,
            "grid_template_rows": null,
            "height": null,
            "justify_content": null,
            "justify_items": null,
            "left": null,
            "margin": null,
            "max_height": null,
            "max_width": null,
            "min_height": null,
            "min_width": null,
            "object_fit": null,
            "object_position": null,
            "order": null,
            "overflow": null,
            "overflow_x": null,
            "overflow_y": null,
            "padding": null,
            "right": null,
            "top": null,
            "visibility": null,
            "width": null
          }
        },
        "67c549d7ec694ef3bbd697ed99ac2482": {
          "model_module": "@jupyter-widgets/base",
          "model_module_version": "1.2.0",
          "model_name": "LayoutModel",
          "state": {
            "_model_module": "@jupyter-widgets/base",
            "_model_module_version": "1.2.0",
            "_model_name": "LayoutModel",
            "_view_count": null,
            "_view_module": "@jupyter-widgets/base",
            "_view_module_version": "1.2.0",
            "_view_name": "LayoutView",
            "align_content": null,
            "align_items": null,
            "align_self": null,
            "border": null,
            "bottom": null,
            "display": null,
            "flex": null,
            "flex_flow": null,
            "grid_area": null,
            "grid_auto_columns": null,
            "grid_auto_flow": null,
            "grid_auto_rows": null,
            "grid_column": null,
            "grid_gap": null,
            "grid_row": null,
            "grid_template_areas": null,
            "grid_template_columns": null,
            "grid_template_rows": null,
            "height": null,
            "justify_content": null,
            "justify_items": null,
            "left": null,
            "margin": null,
            "max_height": null,
            "max_width": null,
            "min_height": null,
            "min_width": null,
            "object_fit": null,
            "object_position": null,
            "order": null,
            "overflow": null,
            "overflow_x": null,
            "overflow_y": null,
            "padding": null,
            "right": null,
            "top": null,
            "visibility": null,
            "width": null
          }
        },
        "7cec5ebfad68401caee70db5229bdcbe": {
          "model_module": "@jupyter-widgets/controls",
          "model_module_version": "1.5.0",
          "model_name": "ProgressStyleModel",
          "state": {
            "_model_module": "@jupyter-widgets/controls",
            "_model_module_version": "1.5.0",
            "_model_name": "ProgressStyleModel",
            "_view_count": null,
            "_view_module": "@jupyter-widgets/base",
            "_view_module_version": "1.2.0",
            "_view_name": "StyleView",
            "bar_color": null,
            "description_width": ""
          }
        },
        "828efe8748f940e484e40ed347b8343e": {
          "model_module": "@jupyter-widgets/base",
          "model_module_version": "1.2.0",
          "model_name": "LayoutModel",
          "state": {
            "_model_module": "@jupyter-widgets/base",
            "_model_module_version": "1.2.0",
            "_model_name": "LayoutModel",
            "_view_count": null,
            "_view_module": "@jupyter-widgets/base",
            "_view_module_version": "1.2.0",
            "_view_name": "LayoutView",
            "align_content": null,
            "align_items": null,
            "align_self": null,
            "border": null,
            "bottom": null,
            "display": null,
            "flex": null,
            "flex_flow": null,
            "grid_area": null,
            "grid_auto_columns": null,
            "grid_auto_flow": null,
            "grid_auto_rows": null,
            "grid_column": null,
            "grid_gap": null,
            "grid_row": null,
            "grid_template_areas": null,
            "grid_template_columns": null,
            "grid_template_rows": null,
            "height": null,
            "justify_content": null,
            "justify_items": null,
            "left": null,
            "margin": null,
            "max_height": null,
            "max_width": null,
            "min_height": null,
            "min_width": null,
            "object_fit": null,
            "object_position": null,
            "order": null,
            "overflow": null,
            "overflow_x": null,
            "overflow_y": null,
            "padding": null,
            "right": null,
            "top": null,
            "visibility": null,
            "width": null
          }
        },
        "bc44f33b07b4425ea776393332a42840": {
          "model_module": "@jupyter-widgets/controls",
          "model_module_version": "1.5.0",
          "model_name": "DescriptionStyleModel",
          "state": {
            "_model_module": "@jupyter-widgets/controls",
            "_model_module_version": "1.5.0",
            "_model_name": "DescriptionStyleModel",
            "_view_count": null,
            "_view_module": "@jupyter-widgets/base",
            "_view_module_version": "1.2.0",
            "_view_name": "StyleView",
            "description_width": ""
          }
        },
        "bce3180c2b814c03abd9b14c9dab2931": {
          "model_module": "@jupyter-widgets/controls",
          "model_module_version": "1.5.0",
          "model_name": "DescriptionStyleModel",
          "state": {
            "_model_module": "@jupyter-widgets/controls",
            "_model_module_version": "1.5.0",
            "_model_name": "DescriptionStyleModel",
            "_view_count": null,
            "_view_module": "@jupyter-widgets/base",
            "_view_module_version": "1.2.0",
            "_view_name": "StyleView",
            "description_width": ""
          }
        },
        "c846c4439d304926ab50b7b540924394": {
          "model_module": "@jupyter-widgets/controls",
          "model_module_version": "1.5.0",
          "model_name": "HBoxModel",
          "state": {
            "_dom_classes": [],
            "_model_module": "@jupyter-widgets/controls",
            "_model_module_version": "1.5.0",
            "_model_name": "HBoxModel",
            "_view_count": null,
            "_view_module": "@jupyter-widgets/controls",
            "_view_module_version": "1.5.0",
            "_view_name": "HBoxView",
            "box_style": "",
            "children": [
              "IPY_MODEL_0224024392fd435996738312659123f6",
              "IPY_MODEL_cd6b9312d4e74ede9a411f67a50f708c",
              "IPY_MODEL_0502e1c271a7477ba4ecec0cc78e4498"
            ],
            "layout": "IPY_MODEL_828efe8748f940e484e40ed347b8343e"
          }
        },
        "cd6b9312d4e74ede9a411f67a50f708c": {
          "model_module": "@jupyter-widgets/controls",
          "model_module_version": "1.5.0",
          "model_name": "FloatProgressModel",
          "state": {
            "_dom_classes": [],
            "_model_module": "@jupyter-widgets/controls",
            "_model_module_version": "1.5.0",
            "_model_name": "FloatProgressModel",
            "_view_count": null,
            "_view_module": "@jupyter-widgets/controls",
            "_view_module_version": "1.5.0",
            "_view_name": "ProgressView",
            "bar_style": "success",
            "description": "",
            "description_tooltip": null,
            "layout": "IPY_MODEL_67c549d7ec694ef3bbd697ed99ac2482",
            "max": 440449768,
            "min": 0,
            "orientation": "horizontal",
            "style": "IPY_MODEL_7cec5ebfad68401caee70db5229bdcbe",
            "value": 440449768
          }
        },
        "cf3e78ccace8447bbe2fe2801b6de64b": {
          "model_module": "@jupyter-widgets/base",
          "model_module_version": "1.2.0",
          "model_name": "LayoutModel",
          "state": {
            "_model_module": "@jupyter-widgets/base",
            "_model_module_version": "1.2.0",
            "_model_name": "LayoutModel",
            "_view_count": null,
            "_view_module": "@jupyter-widgets/base",
            "_view_module_version": "1.2.0",
            "_view_name": "LayoutView",
            "align_content": null,
            "align_items": null,
            "align_self": null,
            "border": null,
            "bottom": null,
            "display": null,
            "flex": null,
            "flex_flow": null,
            "grid_area": null,
            "grid_auto_columns": null,
            "grid_auto_flow": null,
            "grid_auto_rows": null,
            "grid_column": null,
            "grid_gap": null,
            "grid_row": null,
            "grid_template_areas": null,
            "grid_template_columns": null,
            "grid_template_rows": null,
            "height": null,
            "justify_content": null,
            "justify_items": null,
            "left": null,
            "margin": null,
            "max_height": null,
            "max_width": null,
            "min_height": null,
            "min_width": null,
            "object_fit": null,
            "object_position": null,
            "order": null,
            "overflow": null,
            "overflow_x": null,
            "overflow_y": null,
            "padding": null,
            "right": null,
            "top": null,
            "visibility": null,
            "width": null
          }
        }
      }
    }
  },
  "nbformat": 4,
  "nbformat_minor": 0
}
